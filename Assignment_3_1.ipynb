{
  "nbformat": 4,
  "nbformat_minor": 0,
  "metadata": {
    "colab": {
      "provenance": [],
      "authorship_tag": "ABX9TyNp9gwyHvWcTh2/PhjokOji",
      "include_colab_link": true
    },
    "kernelspec": {
      "name": "python3",
      "display_name": "Python 3"
    },
    "language_info": {
      "name": "python"
    }
  },
  "cells": [
    {
      "cell_type": "markdown",
      "metadata": {
        "id": "view-in-github",
        "colab_type": "text"
      },
      "source": [
        "<a href=\"https://colab.research.google.com/github/Tarane2028/ADS500B/blob/main/Assignment_3_1.ipynb\" target=\"_parent\"><img src=\"https://colab.research.google.com/assets/colab-badge.svg\" alt=\"Open In Colab\"/></a>"
      ]
    },
    {
      "cell_type": "code",
      "source": [
        "from google.colab import files\n",
        "\n",
        "# Upload the file\n",
        "uploaded = files.upload()"
      ],
      "metadata": {
        "colab": {
          "base_uri": "https://localhost:8080/",
          "height": 74
        },
        "id": "Bsk7mKXHrYsn",
        "outputId": "46c273e5-e25d-4430-f3c9-9783b7016e05"
      },
      "execution_count": null,
      "outputs": [
        {
          "output_type": "display_data",
          "data": {
            "text/plain": [
              "<IPython.core.display.HTML object>"
            ],
            "text/html": [
              "\n",
              "     <input type=\"file\" id=\"files-bde9c84a-744c-423f-a4f2-7afc2f9b47e0\" name=\"files[]\" multiple disabled\n",
              "        style=\"border:none\" />\n",
              "     <output id=\"result-bde9c84a-744c-423f-a4f2-7afc2f9b47e0\">\n",
              "      Upload widget is only available when the cell has been executed in the\n",
              "      current browser session. Please rerun this cell to enable.\n",
              "      </output>\n",
              "      <script>// Copyright 2017 Google LLC\n",
              "//\n",
              "// Licensed under the Apache License, Version 2.0 (the \"License\");\n",
              "// you may not use this file except in compliance with the License.\n",
              "// You may obtain a copy of the License at\n",
              "//\n",
              "//      http://www.apache.org/licenses/LICENSE-2.0\n",
              "//\n",
              "// Unless required by applicable law or agreed to in writing, software\n",
              "// distributed under the License is distributed on an \"AS IS\" BASIS,\n",
              "// WITHOUT WARRANTIES OR CONDITIONS OF ANY KIND, either express or implied.\n",
              "// See the License for the specific language governing permissions and\n",
              "// limitations under the License.\n",
              "\n",
              "/**\n",
              " * @fileoverview Helpers for google.colab Python module.\n",
              " */\n",
              "(function(scope) {\n",
              "function span(text, styleAttributes = {}) {\n",
              "  const element = document.createElement('span');\n",
              "  element.textContent = text;\n",
              "  for (const key of Object.keys(styleAttributes)) {\n",
              "    element.style[key] = styleAttributes[key];\n",
              "  }\n",
              "  return element;\n",
              "}\n",
              "\n",
              "// Max number of bytes which will be uploaded at a time.\n",
              "const MAX_PAYLOAD_SIZE = 100 * 1024;\n",
              "\n",
              "function _uploadFiles(inputId, outputId) {\n",
              "  const steps = uploadFilesStep(inputId, outputId);\n",
              "  const outputElement = document.getElementById(outputId);\n",
              "  // Cache steps on the outputElement to make it available for the next call\n",
              "  // to uploadFilesContinue from Python.\n",
              "  outputElement.steps = steps;\n",
              "\n",
              "  return _uploadFilesContinue(outputId);\n",
              "}\n",
              "\n",
              "// This is roughly an async generator (not supported in the browser yet),\n",
              "// where there are multiple asynchronous steps and the Python side is going\n",
              "// to poll for completion of each step.\n",
              "// This uses a Promise to block the python side on completion of each step,\n",
              "// then passes the result of the previous step as the input to the next step.\n",
              "function _uploadFilesContinue(outputId) {\n",
              "  const outputElement = document.getElementById(outputId);\n",
              "  const steps = outputElement.steps;\n",
              "\n",
              "  const next = steps.next(outputElement.lastPromiseValue);\n",
              "  return Promise.resolve(next.value.promise).then((value) => {\n",
              "    // Cache the last promise value to make it available to the next\n",
              "    // step of the generator.\n",
              "    outputElement.lastPromiseValue = value;\n",
              "    return next.value.response;\n",
              "  });\n",
              "}\n",
              "\n",
              "/**\n",
              " * Generator function which is called between each async step of the upload\n",
              " * process.\n",
              " * @param {string} inputId Element ID of the input file picker element.\n",
              " * @param {string} outputId Element ID of the output display.\n",
              " * @return {!Iterable<!Object>} Iterable of next steps.\n",
              " */\n",
              "function* uploadFilesStep(inputId, outputId) {\n",
              "  const inputElement = document.getElementById(inputId);\n",
              "  inputElement.disabled = false;\n",
              "\n",
              "  const outputElement = document.getElementById(outputId);\n",
              "  outputElement.innerHTML = '';\n",
              "\n",
              "  const pickedPromise = new Promise((resolve) => {\n",
              "    inputElement.addEventListener('change', (e) => {\n",
              "      resolve(e.target.files);\n",
              "    });\n",
              "  });\n",
              "\n",
              "  const cancel = document.createElement('button');\n",
              "  inputElement.parentElement.appendChild(cancel);\n",
              "  cancel.textContent = 'Cancel upload';\n",
              "  const cancelPromise = new Promise((resolve) => {\n",
              "    cancel.onclick = () => {\n",
              "      resolve(null);\n",
              "    };\n",
              "  });\n",
              "\n",
              "  // Wait for the user to pick the files.\n",
              "  const files = yield {\n",
              "    promise: Promise.race([pickedPromise, cancelPromise]),\n",
              "    response: {\n",
              "      action: 'starting',\n",
              "    }\n",
              "  };\n",
              "\n",
              "  cancel.remove();\n",
              "\n",
              "  // Disable the input element since further picks are not allowed.\n",
              "  inputElement.disabled = true;\n",
              "\n",
              "  if (!files) {\n",
              "    return {\n",
              "      response: {\n",
              "        action: 'complete',\n",
              "      }\n",
              "    };\n",
              "  }\n",
              "\n",
              "  for (const file of files) {\n",
              "    const li = document.createElement('li');\n",
              "    li.append(span(file.name, {fontWeight: 'bold'}));\n",
              "    li.append(span(\n",
              "        `(${file.type || 'n/a'}) - ${file.size} bytes, ` +\n",
              "        `last modified: ${\n",
              "            file.lastModifiedDate ? file.lastModifiedDate.toLocaleDateString() :\n",
              "                                    'n/a'} - `));\n",
              "    const percent = span('0% done');\n",
              "    li.appendChild(percent);\n",
              "\n",
              "    outputElement.appendChild(li);\n",
              "\n",
              "    const fileDataPromise = new Promise((resolve) => {\n",
              "      const reader = new FileReader();\n",
              "      reader.onload = (e) => {\n",
              "        resolve(e.target.result);\n",
              "      };\n",
              "      reader.readAsArrayBuffer(file);\n",
              "    });\n",
              "    // Wait for the data to be ready.\n",
              "    let fileData = yield {\n",
              "      promise: fileDataPromise,\n",
              "      response: {\n",
              "        action: 'continue',\n",
              "      }\n",
              "    };\n",
              "\n",
              "    // Use a chunked sending to avoid message size limits. See b/62115660.\n",
              "    let position = 0;\n",
              "    do {\n",
              "      const length = Math.min(fileData.byteLength - position, MAX_PAYLOAD_SIZE);\n",
              "      const chunk = new Uint8Array(fileData, position, length);\n",
              "      position += length;\n",
              "\n",
              "      const base64 = btoa(String.fromCharCode.apply(null, chunk));\n",
              "      yield {\n",
              "        response: {\n",
              "          action: 'append',\n",
              "          file: file.name,\n",
              "          data: base64,\n",
              "        },\n",
              "      };\n",
              "\n",
              "      let percentDone = fileData.byteLength === 0 ?\n",
              "          100 :\n",
              "          Math.round((position / fileData.byteLength) * 100);\n",
              "      percent.textContent = `${percentDone}% done`;\n",
              "\n",
              "    } while (position < fileData.byteLength);\n",
              "  }\n",
              "\n",
              "  // All done.\n",
              "  yield {\n",
              "    response: {\n",
              "      action: 'complete',\n",
              "    }\n",
              "  };\n",
              "}\n",
              "\n",
              "scope.google = scope.google || {};\n",
              "scope.google.colab = scope.google.colab || {};\n",
              "scope.google.colab._files = {\n",
              "  _uploadFiles,\n",
              "  _uploadFilesContinue,\n",
              "};\n",
              "})(self);\n",
              "</script> "
            ]
          },
          "metadata": {}
        },
        {
          "output_type": "stream",
          "name": "stdout",
          "text": [
            "Saving modcloth_final_data.json to modcloth_final_data.json\n"
          ]
        }
      ]
    },
    {
      "cell_type": "code",
      "source": [
        "import pandas as pd\n",
        "import json\n",
        "\n",
        "# Get the uploaded file name\n",
        "file_name = list(uploaded.keys())[0]\n",
        "\n",
        "# Read the file line by line and parse JSON objects\n",
        "data_list = []\n",
        "with open(file_name, 'r') as f:\n",
        "    for line in f:\n",
        "        line = line.strip()\n",
        "        if line:  # Skip empty lines\n",
        "            data_list.append(json.loads(line))\n",
        "\n",
        "# Convert the list into a DataFrame\n",
        "modcloth_data = pd.DataFrame(data_list)\n",
        "\n",
        "# Create the 'labels' variable from the 'quality' column\n",
        "labels = modcloth_data['quality']\n",
        "\n",
        "# Display the column names and first few rows of the DataFrame to verify\n",
        "print(modcloth_data.columns)\n",
        "print(modcloth_data.head())"
      ],
      "metadata": {
        "colab": {
          "base_uri": "https://localhost:8080/"
        },
        "id": "J4PkwoVfsl8a",
        "outputId": "cec85a98-02c3-4649-96ea-783fec948f30"
      },
      "execution_count": null,
      "outputs": [
        {
          "output_type": "stream",
          "name": "stdout",
          "text": [
            "Index(['item_id', 'waist', 'size', 'quality', 'cup size', 'hips', 'bra size',\n",
            "       'category', 'bust', 'height', 'user_name', 'length', 'fit', 'user_id',\n",
            "       'shoe size', 'shoe width', 'review_summary', 'review_text'],\n",
            "      dtype='object')\n",
            "  item_id waist  size  quality cup size hips bra size category bust   height  \\\n",
            "0  123373    29     7      5.0        d   38       34      new   36  5ft 6in   \n",
            "1  123373    31    13      3.0        b   30       36      new  NaN  5ft 2in   \n",
            "2  123373    30     7      2.0        b  NaN       32      new  NaN  5ft 7in   \n",
            "3  123373   NaN    21      5.0     dd/e  NaN      NaN      new  NaN      NaN   \n",
            "4  123373   NaN    18      5.0        b  NaN       36      new  NaN  5ft 2in   \n",
            "\n",
            "          user_name         length    fit user_id shoe size shoe width  \\\n",
            "0             Emily     just right  small  991571       NaN        NaN   \n",
            "1  sydneybraden2001     just right  small  587883       NaN        NaN   \n",
            "2             Ugggh  slightly long  small  395665      9.00        NaN   \n",
            "3      alexmeyer626     just right    fit  875643       NaN        NaN   \n",
            "4        dberrones1  slightly long  small  944840       NaN        NaN   \n",
            "\n",
            "  review_summary review_text  \n",
            "0            NaN         NaN  \n",
            "1            NaN         NaN  \n",
            "2            NaN         NaN  \n",
            "3            NaN         NaN  \n",
            "4            NaN         NaN  \n"
          ]
        }
      ]
    },
    {
      "cell_type": "code",
      "source": [
        "# Convert 'waist' and 'size' columns to numeric, coerce errors to NaN\n",
        "modcloth_data['waist'] = pd.to_numeric(modcloth_data['waist'], errors='coerce')\n",
        "modcloth_data['size'] = pd.to_numeric(modcloth_data['size'], errors='coerce')\n",
        "\n",
        "# Display the first few rows to verify conversion\n",
        "print(modcloth_data[['waist', 'size']].head())"
      ],
      "metadata": {
        "colab": {
          "base_uri": "https://localhost:8080/"
        },
        "id": "xA7t7bVOtTN1",
        "outputId": "fdd91e3e-c8dc-4d11-ec72-74703aebd4fd"
      },
      "execution_count": null,
      "outputs": [
        {
          "output_type": "stream",
          "name": "stdout",
          "text": [
            "   waist  size\n",
            "0   29.0     7\n",
            "1   31.0    13\n",
            "2   30.0     7\n",
            "3    NaN    21\n",
            "4    NaN    18\n"
          ]
        }
      ]
    },
    {
      "cell_type": "code",
      "source": [
        "# Drop rows with any NaN values in 'waist' or 'size'\n",
        "modcloth_data.dropna(subset=['waist', 'size'], inplace=True)\n",
        "\n",
        "# Display the first few rows to verify handling of missing values\n",
        "print(modcloth_data[['waist', 'size']].head())"
      ],
      "metadata": {
        "colab": {
          "base_uri": "https://localhost:8080/"
        },
        "id": "9krwp0dzwq9v",
        "outputId": "3504ac86-5df0-4277-af1e-2b9e0b582536"
      },
      "execution_count": null,
      "outputs": [
        {
          "output_type": "stream",
          "name": "stdout",
          "text": [
            "   waist  size\n",
            "0   29.0     7\n",
            "1   31.0    13\n",
            "2   30.0     7\n",
            "5   27.0    11\n",
            "6   26.0     5\n"
          ]
        }
      ]
    },
    {
      "cell_type": "code",
      "source": [
        "# Create a new feature: ratio of waist to size\n",
        "modcloth_data['waist_size_ratio'] = modcloth_data['waist'] / modcloth_data['size']\n",
        "\n",
        "# Handle any potential infinite or NaN values resulting from division\n",
        "modcloth_data['waist_size_ratio'].replace([float('inf'), -float('inf')], float('nan'), inplace=True)\n",
        "modcloth_data['waist_size_ratio'].fillna(0, inplace=True)\n",
        "\n",
        "# Select relevant features for modeling\n",
        "selected_features = modcloth_data[['waist', 'size', 'waist_size_ratio']]\n",
        "\n",
        "# Display the first few rows to verify new feature\n",
        "print(modcloth_data.head())"
      ],
      "metadata": {
        "colab": {
          "base_uri": "https://localhost:8080/"
        },
        "id": "dQATq0owtZfr",
        "outputId": "58a08cd9-a074-403d-bcb8-bc15a9eb5277"
      },
      "execution_count": null,
      "outputs": [
        {
          "output_type": "stream",
          "name": "stdout",
          "text": [
            "  item_id  waist  size  quality cup size hips bra size category bust   height  \\\n",
            "0  123373   29.0     7      5.0        d   38       34      new   36  5ft 6in   \n",
            "1  123373   31.0    13      3.0        b   30       36      new  NaN  5ft 2in   \n",
            "2  123373   30.0     7      2.0        b  NaN       32      new  NaN  5ft 7in   \n",
            "3  123373    NaN    21      5.0     dd/e  NaN      NaN      new  NaN      NaN   \n",
            "4  123373    NaN    18      5.0        b  NaN       36      new  NaN  5ft 2in   \n",
            "\n",
            "          user_name         length    fit user_id shoe size shoe width  \\\n",
            "0             Emily     just right  small  991571       NaN        NaN   \n",
            "1  sydneybraden2001     just right  small  587883       NaN        NaN   \n",
            "2             Ugggh  slightly long  small  395665      9.00        NaN   \n",
            "3      alexmeyer626     just right    fit  875643       NaN        NaN   \n",
            "4        dberrones1  slightly long  small  944840       NaN        NaN   \n",
            "\n",
            "  review_summary review_text  waist_size_ratio  \n",
            "0            NaN         NaN          4.142857  \n",
            "1            NaN         NaN          2.384615  \n",
            "2            NaN         NaN          4.285714  \n",
            "3            NaN         NaN          0.000000  \n",
            "4            NaN         NaN          0.000000  \n"
          ]
        }
      ]
    },
    {
      "cell_type": "code",
      "source": [
        "# Ensure 'waist' and 'size' are numeric and handle NaNs\n",
        "modcloth_data['waist'] = pd.to_numeric(modcloth_data['waist'], errors='coerce')\n",
        "modcloth_data['size'] = pd.to_numeric(modcloth_data['size'], errors='coerce')\n",
        "\n",
        "# Drop rows with NaNs in 'waist' or 'size'\n",
        "modcloth_data.dropna(subset=['waist', 'size'], inplace=True)\n",
        "\n",
        "# Create the 'labels' variable from the 'quality' column after dropping NaNs\n",
        "labels = modcloth_data['quality'].dropna()\n",
        "\n",
        "# Ensure the DataFrame and labels have consistent lengths\n",
        "modcloth_data = modcloth_data.loc[labels.index]\n",
        "\n",
        "# Create the new feature: ratio of waist to size\n",
        "modcloth_data['waist_size_ratio'] = modcloth_data['waist'] / modcloth_data['size']\n",
        "\n",
        "# Handle any potential infinite values resulting from division\n",
        "modcloth_data['waist_size_ratio'].replace([float('inf'), -float('inf')], float('nan'), inplace=True)\n",
        "modcloth_data['waist_size_ratio'].fillna(0, inplace=True)\n",
        "\n",
        "# Select relevant features for modeling\n",
        "selected_features = modcloth_data[['waist', 'size', 'waist_size_ratio']]\n",
        "\n",
        "# Verify consistent lengths\n",
        "print(selected_features.shape)\n",
        "print(labels.shape)"
      ],
      "metadata": {
        "colab": {
          "base_uri": "https://localhost:8080/"
        },
        "id": "duJF39q7xwhz",
        "outputId": "221c4f47-f24b-4b5b-cf50-218051e0a178"
      },
      "execution_count": null,
      "outputs": [
        {
          "output_type": "stream",
          "name": "stdout",
          "text": [
            "(2843, 3)\n",
            "(2843,)\n"
          ]
        }
      ]
    },
    {
      "cell_type": "code",
      "source": [
        "from sklearn.model_selection import train_test_split\n",
        "from sklearn.tree import DecisionTreeClassifier\n",
        "from sklearn.metrics import classification_report, accuracy_score\n",
        "\n",
        "# Split the data into training and testing sets\n",
        "X_train, X_test, y_train, y_test = train_test_split(selected_features, labels, test_size=0.2, random_state=42)\n",
        "\n",
        "# Initialize and train the classifier\n",
        "clf = DecisionTreeClassifier()\n",
        "clf.fit(X_train, y_train)\n",
        "\n",
        "# Make predictions and evaluate the model\n",
        "y_pred = clf.predict(X_test)\n",
        "print(\"Accuracy:\", accuracy_score(y_test, y_pred))\n",
        "print(classification_report(y_test, y_pred))"
      ],
      "metadata": {
        "colab": {
          "base_uri": "https://localhost:8080/"
        },
        "id": "SZXhh96zuS4G",
        "outputId": "a158967a-9d51-4101-b575-950163f9ffd4"
      },
      "execution_count": null,
      "outputs": [
        {
          "output_type": "stream",
          "name": "stdout",
          "text": [
            "Accuracy: 0.46045694200351495\n",
            "              precision    recall  f1-score   support\n",
            "\n",
            "         1.0       0.00      0.00      0.00        14\n",
            "         2.0       0.50      0.03      0.06        34\n",
            "         3.0       0.29      0.05      0.09        74\n",
            "         4.0       0.34      0.26      0.30       171\n",
            "         5.0       0.51      0.77      0.61       276\n",
            "\n",
            "    accuracy                           0.46       569\n",
            "   macro avg       0.33      0.22      0.21       569\n",
            "weighted avg       0.42      0.46      0.40       569\n",
            "\n"
          ]
        }
      ]
    },
    {
      "cell_type": "code",
      "source": [
        "import re\n",
        "\n",
        "# Function to convert height from string to inches\n",
        "def convert_height(height):\n",
        "    if pd.isnull(height):\n",
        "        return None\n",
        "    match = re.match(r'(\\d+)ft (\\d+)in', height)\n",
        "    if match:\n",
        "        feet = int(match.group(1))\n",
        "        inches = int(match.group(2))\n",
        "        return feet * 12 + inches\n",
        "    return None\n",
        "\n",
        "# Apply the conversion to the 'height' column\n",
        "modcloth_data['height'] = modcloth_data['height'].apply(convert_height)\n",
        "\n",
        "# Display the first few rows to verify conversion\n",
        "print(modcloth_data[['height']].head())"
      ],
      "metadata": {
        "colab": {
          "base_uri": "https://localhost:8080/"
        },
        "id": "JeFXcmmFuXLo",
        "outputId": "c848edf4-5beb-4c0b-9a13-2f6b5183b38b"
      },
      "execution_count": null,
      "outputs": [
        {
          "output_type": "stream",
          "name": "stdout",
          "text": [
            "   height\n",
            "0    66.0\n",
            "1    62.0\n",
            "2    67.0\n",
            "5    64.0\n",
            "6    63.0\n"
          ]
        }
      ]
    },
    {
      "cell_type": "code",
      "source": [
        "# Function to handle bust outliers and convert to numeric\n",
        "def convert_bust(bust):\n",
        "    if pd.isnull(bust):\n",
        "        return None\n",
        "    try:\n",
        "        bust = float(bust)\n",
        "        # Handle outliers (e.g., bust values that are unreasonably high or low)\n",
        "        if bust > 100 or bust < 20:  # Adjust thresholds as necessary\n",
        "            return None\n",
        "        return bust\n",
        "    except ValueError:\n",
        "        return None\n",
        "\n",
        "# Apply the conversion to the 'bust' column\n",
        "modcloth_data['bust'] = modcloth_data['bust'].apply(convert_bust)\n",
        "\n",
        "# Display the first few rows to verify conversion\n",
        "print(modcloth_data[['bust']].head())"
      ],
      "metadata": {
        "colab": {
          "base_uri": "https://localhost:8080/"
        },
        "id": "8g9G_zerzICI",
        "outputId": "7a7d7891-bf75-4056-8c0f-43614397cf98"
      },
      "execution_count": null,
      "outputs": [
        {
          "output_type": "stream",
          "name": "stdout",
          "text": [
            "   bust\n",
            "0  36.0\n",
            "1   NaN\n",
            "2   NaN\n",
            "5   NaN\n",
            "6   NaN\n"
          ]
        }
      ]
    },
    {
      "cell_type": "code",
      "source": [
        "# Convert specified columns to numeric, coerce errors to NaN\n",
        "variables = ['waist', 'size', 'hips', 'bra size', 'shoe size']\n",
        "for var in variables:\n",
        "    modcloth_data[var] = pd.to_numeric(modcloth_data[var], errors='coerce')\n",
        "\n",
        "# Drop rows with NaNs in the specified variables\n",
        "modcloth_data.dropna(subset=variables + ['height', 'bust'], inplace=True)\n",
        "\n",
        "# Create the 'labels' variable from the 'quality' column after dropping NaNs\n",
        "labels = modcloth_data['quality'].dropna()\n",
        "\n",
        "# Ensure the DataFrame and labels have consistent lengths\n",
        "modcloth_data = modcloth_data.loc[labels.index]\n",
        "\n",
        "# Select relevant features for modeling\n",
        "selected_features = modcloth_data[variables + ['height', 'bust']]\n",
        "\n",
        "# Verify consistent lengths and display the first few rows\n",
        "print(selected_features.shape)\n",
        "print(labels.shape)\n",
        "print(selected_features.head())"
      ],
      "metadata": {
        "colab": {
          "base_uri": "https://localhost:8080/"
        },
        "id": "hjVAum-mzLiS",
        "outputId": "ee90bb12-776a-4980-a5e1-43eba2009ee4"
      },
      "execution_count": null,
      "outputs": [
        {
          "output_type": "stream",
          "name": "stdout",
          "text": [
            "(588, 7)\n",
            "(588,)\n",
            "      waist  size  hips  bra size  shoe size  height  bust\n",
            "1069   30.0     8  40.0      36.0        8.5    67.0  36.0\n",
            "1750   27.0     8  34.0      34.0        8.0    59.0  38.0\n",
            "1751   33.0    12  36.0      38.0        7.5    63.0  38.0\n",
            "2336   49.0    32  51.0      42.0        9.5    66.0  51.0\n",
            "2367   31.0     8  41.0      34.0        8.5    66.0  36.0\n"
          ]
        }
      ]
    },
    {
      "cell_type": "code",
      "source": [
        "import seaborn as sns\n",
        "import matplotlib.pyplot as plt\n",
        "\n",
        "# Plot the height distribution\n",
        "plt.figure(figsize=(10, 6))\n",
        "sns.distplot(modcloth_data['height'].dropna())\n",
        "plt.title('Height Distribution')\n",
        "plt.xlabel('Height (inches)')\n",
        "plt.ylabel('Density')\n",
        "plt.show()\n",
        "\n",
        "# Plot the waist distribution\n",
        "plt.figure(figsize=(10, 6))\n",
        "sns.distplot(modcloth_data['waist'].dropna())\n",
        "plt.title('Waist Distribution')\n",
        "plt.xlabel('Waist')\n",
        "plt.ylabel('Density')\n",
        "plt.show()"
      ],
      "metadata": {
        "colab": {
          "base_uri": "https://localhost:8080/",
          "height": 1000
        },
        "id": "PbXvAvH0zQu2",
        "outputId": "81f05bc1-be1b-4fe5-dc58-385d5f75d8d0"
      },
      "execution_count": null,
      "outputs": [
        {
          "output_type": "stream",
          "name": "stderr",
          "text": [
            "<ipython-input-31-2b24beeb86f7>:6: UserWarning: \n",
            "\n",
            "`distplot` is a deprecated function and will be removed in seaborn v0.14.0.\n",
            "\n",
            "Please adapt your code to use either `displot` (a figure-level function with\n",
            "similar flexibility) or `histplot` (an axes-level function for histograms).\n",
            "\n",
            "For a guide to updating your code to use the new functions, please see\n",
            "https://gist.github.com/mwaskom/de44147ed2974457ad6372750bbe5751\n",
            "\n",
            "  sns.distplot(modcloth_data['height'].dropna())\n"
          ]
        },
        {
          "output_type": "display_data",
          "data": {
            "text/plain": [
              "<Figure size 1000x600 with 1 Axes>"
            ],
            "image/png": "[encoded data removed]"
          },
          "metadata": {}
        },
        {
          "output_type": "stream",
          "name": "stderr",
          "text": [
            "<ipython-input-31-2b24beeb86f7>:14: UserWarning: \n",
            "\n",
            "`distplot` is a deprecated function and will be removed in seaborn v0.14.0.\n",
            "\n",
            "Please adapt your code to use either `displot` (a figure-level function with\n",
            "similar flexibility) or `histplot` (an axes-level function for histograms).\n",
            "\n",
            "For a guide to updating your code to use the new functions, please see\n",
            "https://gist.github.com/mwaskom/de44147ed2974457ad6372750bbe5751\n",
            "\n",
            "  sns.distplot(modcloth_data['waist'].dropna())\n"
          ]
        },
        {
          "output_type": "display_data",
          "data": {
            "text/plain": [
              "<Figure size 1000x600 with 1 Axes>"
            ],
            "image/png": "[encoded data removed]"
          },
          "metadata": {}
        }
      ]
    },
    {
      "cell_type": "code",
      "source": [
        "from sklearn.preprocessing import OneHotEncoder\n",
        "from sklearn.model_selection import train_test_split\n",
        "from sklearn.linear_model import Perceptron\n",
        "from sklearn.pipeline import make_pipeline\n",
        "from sklearn import metrics\n",
        "from sklearn.metrics import ConfusionMatrixDisplay\n",
        "\n",
        "# Select categorical features\n",
        "categorical_features = ['cup size', 'length', 'category']\n",
        "cat_data = modcloth_data[categorical_features].dropna()\n",
        "\n",
        "# OneHotEncode the categorical features\n",
        "encoder = OneHotEncoder()\n",
        "cat_feat = encoder.fit_transform(cat_data)\n",
        "\n",
        "# Train-test split\n",
        "X_train, X_test, y_train, y_test = train_test_split(cat_feat, labels.loc[cat_data.index], test_size=0.5, random_state=42)\n",
        "\n",
        "# Balanced Perceptron model\n",
        "balanced_model = make_pipeline(Perceptron(class_weight='balanced'))\n",
        "balanced_model.fit(X_train, y_train)\n",
        "y_pred_balanced = balanced_model.predict(X_test)\n",
        "\n",
        "# Unbalanced Perceptron model\n",
        "unbalanced_model = make_pipeline(Perceptron())\n",
        "unbalanced_model.fit(X_train, y_train)\n",
        "y_pred_unbalanced = unbalanced_model.predict(X_test)\n",
        "\n",
        "# Plot confusion matrix and classification report for balanced model\n",
        "print(\"Unbalanced Model\")\n",
        "print(metrics.classification_report(y_test, y_pred_unbalanced))\n",
        "ConfusionMatrixDisplay.from_estimator(unbalanced_model, X_test, y_test)\n",
        "plt.show()"
      ],
      "metadata": {
        "colab": {
          "base_uri": "https://localhost:8080/",
          "height": 681
        },
        "id": "20SOGM0TzTvC",
        "outputId": "96425f37-6832-45f9-b86a-1a9c29411819"
      },
      "execution_count": null,
      "outputs": [
        {
          "output_type": "stream",
          "name": "stdout",
          "text": [
            "Unbalanced Model\n",
            "              precision    recall  f1-score   support\n",
            "\n",
            "         1.0       0.00      0.00      0.00         5\n",
            "         2.0       0.04      0.08      0.05        13\n",
            "         3.0       0.12      0.18      0.14        34\n",
            "         4.0       0.31      0.44      0.37        87\n",
            "         5.0       0.43      0.25      0.31       137\n",
            "\n",
            "    accuracy                           0.29       276\n",
            "   macro avg       0.18      0.19      0.18       276\n",
            "weighted avg       0.33      0.29      0.29       276\n",
            "\n"
          ]
        },
        {
          "output_type": "display_data",
          "data": {
            "text/plain": [
              "<Figure size 640x480 with 2 Axes>"
            ],
            "image/png": "[encoded data removed]"
          },
          "metadata": {}
        }
      ]
    },
    {
      "cell_type": "code",
      "source": [
        "from sklearn.impute import SimpleImputer\n",
        "from sklearn.preprocessing import Normalizer, StandardScaler\n",
        "from sklearn.model_selection import cross_val_score\n",
        "\n",
        "# Include all relevant numeric features\n",
        "numeric_features = ['waist', 'size', 'hips', 'bra size', 'shoe size', 'height', 'bust']\n",
        "num_data = modcloth_data[numeric_features]\n",
        "\n",
        "# SimpleImputer pipeline\n",
        "imputer_pipeline = make_pipeline(SimpleImputer(strategy='mean'), Perceptron(class_weight='balanced'))\n",
        "scores_imputer = cross_val_score(imputer_pipeline, num_data, labels, cv=5, scoring='accuracy')\n",
        "\n",
        "# Normalizer pipeline\n",
        "normalizer_pipeline = make_pipeline(SimpleImputer(strategy='mean'), Normalizer(), Perceptron(class_weight='balanced'))\n",
        "scores_normalizer = cross_val_score(normalizer_pipeline, num_data, labels, cv=5, scoring='accuracy')\n",
        "\n",
        "# StandardScaler pipeline\n",
        "scaler_pipeline = make_pipeline(SimpleImputer(strategy='mean'), StandardScaler(), Perceptron(class_weight='balanced'))\n",
        "scores_scaler = cross_val_score(scaler_pipeline, num_data, labels, cv=5, scoring='accuracy')\n",
        "\n",
        "# Report scores\n",
        "import numpy as np\n",
        "pipeline_names = [\"Imputer\", \"Normalizer\", \"StandardScaler\"]\n",
        "scores = [scores_imputer, scores_normalizer, scores_scaler]\n",
        "\n",
        "table = pd.DataFrame({\n",
        "    \"Pipeline\": pipeline_names,\n",
        "    \"Min Accuracy\": [np.min(score) for score in scores],\n",
        "    \"Max Accuracy\": [np.max(score) for score in scores],\n",
        "    \"Mean Accuracy\": [np.mean(score) for score in scores]\n",
        "})\n",
        "\n",
        "print(table)"
      ],
      "metadata": {
        "colab": {
          "base_uri": "https://localhost:8080/"
        },
        "id": "Saxh9psK0HnA",
        "outputId": "9add0e02-7d2f-4027-ef9f-82ab7756b554"
      },
      "execution_count": null,
      "outputs": [
        {
          "output_type": "stream",
          "name": "stdout",
          "text": [
            "         Pipeline  Min Accuracy  Max Accuracy  Mean Accuracy\n",
            "0         Imputer      0.119658      0.508475       0.379024\n",
            "1      Normalizer      0.059829      0.504274       0.299261\n",
            "2  StandardScaler      0.152542      0.288136       0.219339\n"
          ]
        }
      ]
    },
    {
      "cell_type": "code",
      "source": [
        "from sklearn.feature_extraction.text import TfidfVectorizer\n",
        "from sklearn.feature_selection import SelectKBest, chi2\n",
        "from sklearn.model_selection import train_test_split\n",
        "from sklearn.linear_model import Perceptron\n",
        "import matplotlib.pyplot as plt\n",
        "\n",
        "# Process review text\n",
        "corpus = modcloth_data['review_text'].dropna()\n",
        "labels_with_reviews = labels.loc[corpus.index]\n",
        "\n",
        "# Vectorize the text\n",
        "vectorizer = TfidfVectorizer(stop_words='english')\n",
        "X_text = vectorizer.fit_transform(corpus)\n",
        "\n",
        "# Create DataFrame from sparse matrix\n",
        "X_text_df = pd.DataFrame.sparse.from_spmatrix(X_text, columns=vectorizer.get_feature_names_out())\n",
        "\n",
        "# Feature selection using SelectKBest and chi2\n",
        "k_values = [10, 25, 50, 100, 250, 500, 1000, 10000]\n",
        "k_values = [k for k in k_values if k <= X_text.shape[1]]  # Ensure k does not exceed the number of features\n",
        "accuracy_scores = []\n",
        "\n",
        "for k in k_values:\n",
        "    selector = SelectKBest(chi2, k=k)\n",
        "    X_new = selector.fit_transform(X_text, labels_with_reviews)\n",
        "    X_train, X_test, y_train, y_test = train_test_split(X_new, labels_with_reviews, test_size=0.5, random_state=42)\n",
        "    clf = Perceptron(class_weight='balanced')\n",
        "    clf.fit(X_train, y_train)\n",
        "    accuracy = clf.score(X_test, y_test)\n",
        "    accuracy_scores.append(accuracy)\n",
        "\n",
        "# Plot accuracy vs. number of features\n",
        "plt.figure(figsize=(10, 6))\n",
        "plt.plot(k_values, accuracy_scores, marker='o')\n",
        "plt.title('Accuracy vs. Number of Features')\n",
        "plt.xlabel('Number of Features')\n",
        "plt.ylabel('Accuracy')\n",
        "plt.xscale('log')\n",
        "plt.grid(True)\n",
        "plt.show()"
      ],
      "metadata": {
        "colab": {
          "base_uri": "https://localhost:8080/",
          "height": 538
        },
        "id": "MOZTouTb0jb1",
        "outputId": "6cb92b58-73b7-45cb-aa1e-5ee3c8f19294"
      },
      "execution_count": null,
      "outputs": [
        {
          "output_type": "display_data",
          "data": {
            "text/plain": [
              "<Figure size 1000x600 with 1 Axes>"
            ],
            "image/png": "[encoded data removed]"
          },
          "metadata": {}
        }
      ]
    },
    {
      "cell_type": "code",
      "source": [],
      "metadata": {
        "id": "mGFp042kivaM"
      },
      "execution_count": null,
      "outputs": []
    }
  ]
}